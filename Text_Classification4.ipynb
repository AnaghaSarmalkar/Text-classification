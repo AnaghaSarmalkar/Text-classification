{
  "nbformat": 4,
  "nbformat_minor": 0,
  "metadata": {
    "colab": {
      "name": "Text_Classification4.ipynb",
      "provenance": [],
      "collapsed_sections": [],
      "toc_visible": true,
      "machine_shape": "hm"
    },
    "kernelspec": {
      "name": "python3",
      "display_name": "Python 3"
    },
    "accelerator": "GPU"
  },
  "cells": [
    {
      "cell_type": "code",
      "metadata": {
        "id": "XAoWU8vHke18",
        "colab_type": "code",
        "outputId": "910b488b-cc5b-4a12-98dd-dde6387a4d59",
        "colab": {
          "base_uri": "https://localhost:8080/",
          "height": 124
        }
      },
      "source": [
        "from google.colab import drive\n",
        "drive.mount('/content/drive')"
      ],
      "execution_count": 1,
      "outputs": [
        {
          "output_type": "stream",
          "text": [
            "Go to this URL in a browser: https://accounts.google.com/o/oauth2/auth?client_id=947318989803-6bn6qk8qdgf4n4g3pfee6491hc0brc4i.apps.googleusercontent.com&redirect_uri=urn%3Aietf%3Awg%3Aoauth%3A2.0%3Aoob&scope=email%20https%3A%2F%2Fwww.googleapis.com%2Fauth%2Fdocs.test%20https%3A%2F%2Fwww.googleapis.com%2Fauth%2Fdrive%20https%3A%2F%2Fwww.googleapis.com%2Fauth%2Fdrive.photos.readonly%20https%3A%2F%2Fwww.googleapis.com%2Fauth%2Fpeopleapi.readonly&response_type=code\n",
            "\n",
            "Enter your authorization code:\n",
            "··········\n",
            "Mounted at /content/drive\n"
          ],
          "name": "stdout"
        }
      ]
    },
    {
      "cell_type": "code",
      "metadata": {
        "id": "ChWNT5liQBU1",
        "colab_type": "code",
        "colab": {}
      },
      "source": [
        "import os\n",
        "import operator\n",
        "import pandas as pd\n",
        "import numpy as np\n",
        "from sklearn.datasets import load_svmlight_file\n",
        "from sklearn.naive_bayes import GaussianNB\n",
        "from sklearn.linear_model import LogisticRegression"
      ],
      "execution_count": 0,
      "outputs": []
    },
    {
      "cell_type": "markdown",
      "metadata": {
        "id": "ZZ0-Pe5luBPB",
        "colab_type": "text"
      },
      "source": [
        "### Donot run this"
      ]
    },
    {
      "cell_type": "code",
      "metadata": {
        "id": "IfrXYxwl5_D4",
        "colab_type": "code",
        "colab": {}
      },
      "source": [
        "os.getcwd()\n",
        "os.chdir('/content/drive/My Drive/NLP Assign 2')"
      ],
      "execution_count": 0,
      "outputs": []
    },
    {
      "cell_type": "markdown",
      "metadata": {
        "id": "4eA0kMNzuUiw",
        "colab_type": "text"
      },
      "source": [
        "### Load Dataset"
      ]
    },
    {
      "cell_type": "code",
      "metadata": {
        "id": "WQSpqupW6SIw",
        "colab_type": "code",
        "colab": {}
      },
      "source": [
        "X_train, y_train = load_svmlight_file(\"aclImdb/train/labeledBow.feat\")\n",
        "X_test, y_test = load_svmlight_file(\"aclImdb/test/labeledBow.feat\")\n",
        "X_train=X_train.astype(dtype=np.uint16)\n",
        "X_test=X_test.astype(dtype=np.uint16)\n",
        "\n",
        "y_train = (y_train >= 7).astype(int)\n",
        "y_test = (y_test >= 7).astype(int)"
      ],
      "execution_count": 0,
      "outputs": []
    },
    {
      "cell_type": "markdown",
      "metadata": {
        "id": "rlZiKPgvGbdt",
        "colab_type": "text"
      },
      "source": [
        "# Problem 1:"
      ]
    },
    {
      "cell_type": "code",
      "metadata": {
        "id": "i0QTVE9L8JaX",
        "colab_type": "code",
        "colab": {}
      },
      "source": [
        "def conf_matrix(pred, test):\n",
        "    conf_matrix={'TP':0,'TN':0,'FP':0,'FN':0}\n",
        "    \n",
        "    for i in range(len(test)):\n",
        "        if test[i]==1 and pred[i]==0:\n",
        "            conf_matrix['FN']+=1\n",
        "        else:\n",
        "            if test[i]==1 and pred[i]==1:\n",
        "                conf_matrix['TP']+=1\n",
        "            else:\n",
        "                if test[i]==0 and pred[i]==1:\n",
        "                    conf_matrix['FP']+=1\n",
        "                else:\n",
        "                    if test[i]==0 and pred[i]==0:\n",
        "                        conf_matrix['TN']+=1\n",
        "    return conf_matrix\n",
        "\n",
        "def get_accuracy(pred, test):\n",
        "    matrix=conf_matrix(pred,test)\n",
        "    accuracy=(matrix['TP']+matrix['TN'])/(matrix['TP']+matrix['TN']+matrix['FN']+matrix['FP'])\n",
        "    return accuracy\n",
        "\n",
        "def get_precision(pred, test):\n",
        "    matrix=conf_matrix(pred,test)\n",
        "    try:\n",
        "        precision=matrix['TP']/(matrix['TP']+matrix['FP'])\n",
        "    except:\n",
        "        precision=0\n",
        "            \n",
        "    return precision\n",
        "\n",
        "def get_recall(pred,test):\n",
        "    matrix=conf_matrix(pred,test)\n",
        "    try:\n",
        "        recall=matrix['TP']/(matrix['TP']+matrix['FN'])\n",
        "    except:\n",
        "        recall=0\n",
        "    return recall\n",
        "\n",
        "def get_f1_measure(pred,test):\n",
        "    precision=get_precision(pred,test)\n",
        "    recall=get_recall(pred,test)\n",
        "    try:\n",
        "        f1_measure= 2*precision*recall/(precision+recall)\n",
        "    except:\n",
        "        f1_measure=0\n",
        "    return f1_measure"
      ],
      "execution_count": 0,
      "outputs": []
    },
    {
      "cell_type": "markdown",
      "metadata": {
        "id": "eRmGej1EK8QZ",
        "colab_type": "text"
      },
      "source": [
        "# Problem 4"
      ]
    },
    {
      "cell_type": "code",
      "metadata": {
        "id": "q5tIJchZaxaN",
        "colab_type": "code",
        "colab": {}
      },
      "source": [
        "X_train_arr=X_train.todense()"
      ],
      "execution_count": 0,
      "outputs": []
    },
    {
      "cell_type": "code",
      "metadata": {
        "id": "bMmZUHQAXds7",
        "colab_type": "code",
        "colab": {
          "base_uri": "https://localhost:8080/",
          "height": 35
        },
        "outputId": "f38961cb-0299-43db-80e3-6b6c2d5e8640"
      },
      "source": [
        "clf = GaussianNB(var_smoothing=1)\n",
        "clf.partial_fit(X_train_arr, y_train, np.unique(y_train))"
      ],
      "execution_count": 7,
      "outputs": [
        {
          "output_type": "execute_result",
          "data": {
            "text/plain": [
              "GaussianNB(priors=None, var_smoothing=1)"
            ]
          },
          "metadata": {
            "tags": []
          },
          "execution_count": 7
        }
      ]
    },
    {
      "cell_type": "code",
      "metadata": {
        "id": "Ecchrp4_bCYz",
        "colab_type": "code",
        "colab": {}
      },
      "source": [
        "pred_train = []\n",
        "chunkSize = 25\n",
        "chunks = np.split(X_train_arr, chunkSize, axis=0) \n",
        "for chunk in chunks:\n",
        "  op = clf.predict(chunk)\n",
        "  pred_train.extend(op)"
      ],
      "execution_count": 0,
      "outputs": []
    },
    {
      "cell_type": "markdown",
      "metadata": {
        "id": "sp4SqYSXQgPg",
        "colab_type": "text"
      },
      "source": [
        "### Evaluation on Train data"
      ]
    },
    {
      "cell_type": "code",
      "metadata": {
        "id": "s1MaZQrYeIKE",
        "colab_type": "code",
        "outputId": "467ebc54-3039-4116-e09f-50d8a1c37c5d",
        "colab": {
          "base_uri": "https://localhost:8080/",
          "height": 87
        }
      },
      "source": [
        "accuracy=get_accuracy(pred_train,list(y_train))\n",
        "precision=get_precision(pred_train,list(y_train))\n",
        "recall=get_recall(pred_train,list(y_train))\n",
        "f1_measure=get_f1_measure(pred_train,list(y_train))\n",
        "print(\"Accuracy: \",accuracy)\n",
        "print(\"Precision: \",precision)\n",
        "print(\"Recall: \",recall)\n",
        "print(\"F-measure: \",f1_measure)"
      ],
      "execution_count": 9,
      "outputs": [
        {
          "output_type": "stream",
          "text": [
            "Accuracy:  0.51948\n",
            "Precision:  0.6266250650026001\n",
            "Recall:  0.0964\n",
            "F-measure:  0.16709422450253067\n"
          ],
          "name": "stdout"
        }
      ]
    },
    {
      "cell_type": "code",
      "metadata": {
        "id": "wp_uPwhDb11t",
        "colab_type": "code",
        "colab": {}
      },
      "source": [
        "x_test=X_test.astype(dtype=np.uint16)"
      ],
      "execution_count": 0,
      "outputs": []
    },
    {
      "cell_type": "code",
      "metadata": {
        "id": "B2ZIxYevb2sL",
        "colab_type": "code",
        "colab": {}
      },
      "source": [
        "X_test_arr=x_test.todense()"
      ],
      "execution_count": 0,
      "outputs": []
    },
    {
      "cell_type": "code",
      "metadata": {
        "id": "quhWCcePb6gz",
        "colab_type": "code",
        "colab": {}
      },
      "source": [
        "z = np.zeros((25000,4), dtype=np.uint16)\n",
        "Xtest=np.append(X_test_arr, z, axis=1)"
      ],
      "execution_count": 0,
      "outputs": []
    },
    {
      "cell_type": "code",
      "metadata": {
        "id": "Uw0MviVwen5e",
        "colab_type": "code",
        "colab": {}
      },
      "source": [
        "pred_test = []\n",
        "chunkSize = 25\n",
        "chunks = np.split(Xtest, chunkSize, axis=0) \n",
        "for chunk in chunks:\n",
        "  op = clf.predict(chunk)\n",
        "  pred_test.extend(op)"
      ],
      "execution_count": 0,
      "outputs": []
    },
    {
      "cell_type": "code",
      "metadata": {
        "id": "ds88BGOpe-2u",
        "colab_type": "code",
        "outputId": "41b0bc96-17d0-40b3-ea60-9f099cd35ea1",
        "colab": {
          "base_uri": "https://localhost:8080/",
          "height": 87
        }
      },
      "source": [
        "accuracy=get_accuracy(pred_test,list(y_test))\n",
        "precision=get_precision(pred_test,list(y_test))\n",
        "recall=get_recall(pred_test,list(y_test))\n",
        "f1_measure=get_f1_measure(pred_test,list(y_test))\n",
        "print(\"Accuracy: \",accuracy)\n",
        "print(\"Precision: \",precision)\n",
        "print(\"Recall: \",recall)\n",
        "print(\"F-measure: \",f1_measure)"
      ],
      "execution_count": 15,
      "outputs": [
        {
          "output_type": "stream",
          "text": [
            "Accuracy:  0.51728\n",
            "Precision:  0.6190738699007717\n",
            "Recall:  0.08984\n",
            "F-measure:  0.15690931954729634\n"
          ],
          "name": "stdout"
        }
      ]
    }
  ]
}