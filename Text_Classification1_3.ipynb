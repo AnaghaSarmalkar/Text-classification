{
 "cells": [
  {
   "cell_type": "code",
   "execution_count": 5,
   "metadata": {
    "colab": {
     "base_uri": "https://localhost:8080/",
     "height": 55
    },
    "colab_type": "code",
    "id": "X0oyr3gzNcC_",
    "outputId": "03801d96-4780-427a-bc0c-8bb0257b90ec"
   },
   "outputs": [
    {
     "name": "stdout",
     "output_type": "stream",
     "text": [
      "Drive already mounted at /content/drive; to attempt to forcibly remount, call drive.mount(\"/content/drive\", force_remount=True).\n"
     ]
    }
   ],
   "source": [
    "from google.colab import drive\n",
    "drive.mount('/content/drive')"
   ]
  },
  {
   "cell_type": "code",
   "execution_count": 0,
   "metadata": {
    "colab": {},
    "colab_type": "code",
    "id": "1TVy56BUNoio"
   },
   "outputs": [],
   "source": [
    "import os\n",
    "import operator\n",
    "import pandas as pd\n",
    "import numpy as np\n",
    "from sklearn.datasets import load_svmlight_file"
   ]
  },
  {
   "cell_type": "code",
   "execution_count": 0,
   "metadata": {
    "colab": {},
    "colab_type": "code",
    "id": "0E_EjZRsNrnP"
   },
   "outputs": [],
   "source": [
    "os.getcwd()\n",
    "os.chdir('/content/drive/My Drive/NLP Assign 2')"
   ]
  },
  {
   "cell_type": "markdown",
   "metadata": {
    "colab_type": "text",
    "id": "SiFcDrB-Ns_o"
   },
   "source": [
    "### Load Dataset"
   ]
  },
  {
   "cell_type": "code",
   "execution_count": 0,
   "metadata": {
    "colab": {},
    "colab_type": "code",
    "id": "VJ6puQQYNv8o"
   },
   "outputs": [],
   "source": [
    "X_train, y_train = load_svmlight_file(\"aclImdb/train/labeledBow.feat\")\n",
    "X_test, y_test = load_svmlight_file(\"aclImdb/test/labeledBow.feat\")\n",
    "X_train=X_train.astype(dtype=np.uint16)\n",
    "X_test=X_test.astype(dtype=np.uint16)\n",
    "\n",
    "\n",
    "y_train = (y_train >= 7).astype(int)\n",
    "y_test = (y_test >= 7).astype(int)"
   ]
  },
  {
   "cell_type": "markdown",
   "metadata": {
    "colab_type": "text",
    "id": "liIh3nUVNy34"
   },
   "source": [
    "# Problem 1"
   ]
  },
  {
   "cell_type": "code",
   "execution_count": 0,
   "metadata": {
    "colab": {},
    "colab_type": "code",
    "id": "NHNGLyqmNyQV"
   },
   "outputs": [],
   "source": [
    "def conf_matrix(pred, test):\n",
    "    conf_matrix={'TP':0,'TN':0,'FP':0,'FN':0}\n",
    "    \n",
    "    for i in range(len(test)):\n",
    "        if test[i]==1 and pred[i]==0:\n",
    "            conf_matrix['FN']+=1\n",
    "        else:\n",
    "            if test[i]==1 and pred[i]==1:\n",
    "                conf_matrix['TP']+=1\n",
    "            else:\n",
    "                if test[i]==0 and pred[i]==1:\n",
    "                    conf_matrix['FP']+=1\n",
    "                else:\n",
    "                    if test[i]==0 and pred[i]==0:\n",
    "                        conf_matrix['TN']+=1\n",
    "    return conf_matrix\n",
    "\n",
    "def get_accuracy(pred, test):\n",
    "    matrix=conf_matrix(pred,test)\n",
    "    accuracy=(matrix['TP']+matrix['TN'])/(matrix['TP']+matrix['TN']+matrix['FN']+matrix['FP'])\n",
    "    return accuracy\n",
    "\n",
    "def get_precision(pred, test):\n",
    "    matrix=conf_matrix(pred,test)\n",
    "    try:\n",
    "        precision=matrix['TP']/(matrix['TP']+matrix['FP'])\n",
    "    except:\n",
    "        precision=0\n",
    "            \n",
    "    return precision\n",
    "\n",
    "def get_recall(pred,test):\n",
    "    matrix=conf_matrix(pred,test)\n",
    "    try:\n",
    "        recall=matrix['TP']/(matrix['TP']+matrix['FN'])\n",
    "    except:\n",
    "        recall=0\n",
    "    return recall\n",
    "\n",
    "def get_f1_measure(pred,test):\n",
    "    precision=get_precision(pred,test)\n",
    "    recall=get_recall(pred,test)\n",
    "    try:\n",
    "        f1_measure= 2*precision*recall/(precision+recall)\n",
    "    except:\n",
    "        f1_measure=0\n",
    "    return f1_measure"
   ]
  },
  {
   "cell_type": "markdown",
   "metadata": {
    "colab_type": "text",
    "id": "5677bQtkN5ei"
   },
   "source": [
    "# Problem 2"
   ]
  },
  {
   "cell_type": "code",
   "execution_count": 0,
   "metadata": {
    "colab": {},
    "colab_type": "code",
    "id": "W7TVetr5N8Ed"
   },
   "outputs": [],
   "source": [
    "def train_majority(y_train):\n",
    "    majority=np.argmax(np.bincount(y_train))\n",
    "    return majority"
   ]
  },
  {
   "cell_type": "code",
   "execution_count": 0,
   "metadata": {
    "colab": {},
    "colab_type": "code",
    "id": "r9Snsz-TN_ME"
   },
   "outputs": [],
   "source": [
    "def test_majority(X_test,majority):\n",
    "    X_Test=X_test.toarray()\n",
    "    y_pred=np.full(X_Test.shape[0], majority, dtype=int)\n",
    "    return y_pred"
   ]
  },
  {
   "cell_type": "code",
   "execution_count": 0,
   "metadata": {
    "colab": {},
    "colab_type": "code",
    "id": "eFblWOQDOBb7"
   },
   "outputs": [],
   "source": [
    "majority=train_majority(y_train)"
   ]
  },
  {
   "cell_type": "code",
   "execution_count": 0,
   "metadata": {
    "colab": {},
    "colab_type": "code",
    "id": "HxZuCuLcOEoG"
   },
   "outputs": [],
   "source": [
    "y_pred_train=test_majority(X_train,majority)"
   ]
  },
  {
   "cell_type": "markdown",
   "metadata": {
    "colab_type": "text",
    "id": "DO2plrFcOIq6"
   },
   "source": [
    "### Evaluation on Training Data"
   ]
  },
  {
   "cell_type": "code",
   "execution_count": 14,
   "metadata": {
    "colab": {
     "base_uri": "https://localhost:8080/",
     "height": 87
    },
    "colab_type": "code",
    "id": "DOxv-xSMOrLp",
    "outputId": "836bc20a-aa2c-44d3-fcf3-e2b2b72aeaed"
   },
   "outputs": [
    {
     "name": "stdout",
     "output_type": "stream",
     "text": [
      "Accuracy:  0.5\n",
      "Precision:  0\n",
      "Recall:  0.0\n",
      "F-measure:  0\n"
     ]
    }
   ],
   "source": [
    "print(\"Accuracy: \",get_accuracy(y_pred_train,y_train))\n",
    "print(\"Precision: \",get_precision(y_pred_train,y_train))\n",
    "print(\"Recall: \",get_recall(y_pred_train,y_train))\n",
    "print(\"F-measure: \",get_f1_measure(y_pred_train,y_train))"
   ]
  },
  {
   "cell_type": "code",
   "execution_count": 0,
   "metadata": {
    "colab": {},
    "colab_type": "code",
    "id": "qzUvMAjAOtmZ"
   },
   "outputs": [],
   "source": [
    "y_pred=test_majority(X_test,majority)"
   ]
  },
  {
   "cell_type": "code",
   "execution_count": 16,
   "metadata": {
    "colab": {
     "base_uri": "https://localhost:8080/",
     "height": 87
    },
    "colab_type": "code",
    "id": "DFFAhKZnOvJ7",
    "outputId": "a554f691-7db2-4f16-8bfc-446f16be780a"
   },
   "outputs": [
    {
     "name": "stdout",
     "output_type": "stream",
     "text": [
      "Accuracy:  0.5\n",
      "Precision:  0\n",
      "Recall:  0.0\n",
      "F-measure:  0\n"
     ]
    }
   ],
   "source": [
    "print(\"Accuracy: \",get_accuracy(y_pred,y_test))\n",
    "print(\"Precision: \",get_precision(y_pred,y_test))\n",
    "print(\"Recall: \",get_recall(y_pred,y_test))\n",
    "print(\"F-measure: \",get_f1_measure(y_pred,y_test))"
   ]
  },
  {
   "cell_type": "markdown",
   "metadata": {
    "colab_type": "text",
    "id": "s3swPvs2OyZd"
   },
   "source": [
    "# Problem 3:"
   ]
  },
  {
   "cell_type": "code",
   "execution_count": 0,
   "metadata": {
    "colab": {},
    "colab_type": "code",
    "id": "5O2r6sWbO04E"
   },
   "outputs": [],
   "source": [
    "def train_length(thr_len,rev_length):\n",
    "    thr=thr_len\n",
    "    rev_len=rev_length\n",
    "    pred=[]\n",
    "    for i in range(len(rev_len)):\n",
    "      if rev_len[i]>thr:\n",
    "        pred.append(1)\n",
    "      else:\n",
    "        pred.append(0)\n",
    "    return pred"
   ]
  },
  {
   "cell_type": "markdown",
   "metadata": {
    "colab_type": "text",
    "id": "S7NWUn5-O4J_"
   },
   "source": [
    "### Train Data"
   ]
  },
  {
   "cell_type": "code",
   "execution_count": 0,
   "metadata": {
    "colab": {},
    "colab_type": "code",
    "id": "fcX_ba4zO5pz"
   },
   "outputs": [],
   "source": [
    "b=X_train.toarray()"
   ]
  },
  {
   "cell_type": "code",
   "execution_count": 0,
   "metadata": {
    "colab": {},
    "colab_type": "code",
    "id": "TK2zGPEHO-im"
   },
   "outputs": [],
   "source": [
    "rev_len= np.count_nonzero(b,axis=1)"
   ]
  },
  {
   "cell_type": "code",
   "execution_count": 0,
   "metadata": {
    "colab": {},
    "colab_type": "code",
    "id": "kYcF4LePPA7A"
   },
   "outputs": [],
   "source": [
    "pos=[]\n",
    "neg=[]\n",
    "for i in range(len(y_train)):\n",
    "  if y_train[i]==1:\n",
    "    pos.append(rev_len[i])\n",
    "  else:\n",
    "    neg.append(rev_len[i])"
   ]
  },
  {
   "cell_type": "markdown",
   "metadata": {
    "colab_type": "text",
    "id": "aWKaMqy9PDa-"
   },
   "source": [
    "Threshold 1: Mean of the training review lengths\n",
    "\n",
    "Threshold 2: Median of the training review lengths\n",
    "\n",
    "Threshold 3: Mode of the training review lengths\n",
    "\n",
    "These thresholds have been selected because they give a better estimate about the data\n",
    "\n",
    "\n"
   ]
  },
  {
   "cell_type": "code",
   "execution_count": 0,
   "metadata": {
    "colab": {},
    "colab_type": "code",
    "id": "H6qFVV_SPEUA"
   },
   "outputs": [],
   "source": [
    "mean=np.mean(rev_len)\n",
    "median=np.median(rev_len)\n",
    "mode=max(set(list(rev_len)), key = list(rev_len).count) "
   ]
  },
  {
   "cell_type": "code",
   "execution_count": 0,
   "metadata": {
    "colab": {},
    "colab_type": "code",
    "id": "4vnhEXT9PK2S"
   },
   "outputs": [],
   "source": [
    "pred_mean_train=train_length(mean,rev_len)\n",
    "pred_median_train=train_length(median,rev_len)\n",
    "pred_mode_train=train_length(mode,rev_len)"
   ]
  },
  {
   "cell_type": "markdown",
   "metadata": {
    "colab_type": "text",
    "id": "Q8Z9bLSVPPpO"
   },
   "source": [
    "### Evaluation on Training set"
   ]
  },
  {
   "cell_type": "code",
   "execution_count": 23,
   "metadata": {
    "colab": {
     "base_uri": "https://localhost:8080/",
     "height": 87
    },
    "colab_type": "code",
    "id": "tyFKz5yTPOw9",
    "outputId": "c30ba564-b0b9-43bf-89a0-937f1a1f6356"
   },
   "outputs": [
    {
     "name": "stdout",
     "output_type": "stream",
     "text": [
      "Accuracy:  0.502\n",
      "Precision:  0.5027852049910874\n",
      "Recall:  0.36104\n",
      "F-measure:  0.4202831067237847\n"
     ]
    }
   ],
   "source": [
    "print(\"Accuracy: \",get_accuracy(pred_mean_train,y_train))\n",
    "print(\"Precision: \",get_precision(pred_mean_train,y_train))\n",
    "print(\"Recall: \",get_recall(pred_mean_train,y_train))\n",
    "print(\"F-measure: \",get_f1_measure(pred_mean_train,y_train))"
   ]
  },
  {
   "cell_type": "code",
   "execution_count": 24,
   "metadata": {
    "colab": {
     "base_uri": "https://localhost:8080/",
     "height": 87
    },
    "colab_type": "code",
    "id": "5Rw8hXlXPTss",
    "outputId": "c6296682-85a7-49cf-99ed-851e746601a0"
   },
   "outputs": [
    {
     "name": "stdout",
     "output_type": "stream",
     "text": [
      "Accuracy:  0.49608\n",
      "Precision:  0.4960661528580604\n",
      "Recall:  0.49432\n",
      "F-measure:  0.49519153710530533\n"
     ]
    }
   ],
   "source": [
    "print(\"Accuracy: \",get_accuracy(pred_median_train,y_train))\n",
    "print(\"Precision: \",get_precision(pred_median_train,y_train))\n",
    "print(\"Recall: \",get_recall(pred_median_train,y_train))\n",
    "print(\"F-measure: \",get_f1_measure(pred_median_train,y_train))"
   ]
  },
  {
   "cell_type": "code",
   "execution_count": 25,
   "metadata": {
    "colab": {
     "base_uri": "https://localhost:8080/",
     "height": 87
    },
    "colab_type": "code",
    "id": "DjgK4vxlPVfC",
    "outputId": "a11dc518-37b3-49c2-dbc8-029c97246ec7"
   },
   "outputs": [
    {
     "name": "stdout",
     "output_type": "stream",
     "text": [
      "Accuracy:  0.48284\n",
      "Precision:  0.48766177739430544\n",
      "Recall:  0.67824\n",
      "F-measure:  0.5673749372594947\n"
     ]
    }
   ],
   "source": [
    "print(\"Accuracy: \",get_accuracy(pred_mode_train,y_train))\n",
    "print(\"Precision: \",get_precision(pred_mode_train,y_train))\n",
    "print(\"Recall: \",get_recall(pred_mode_train,y_train))\n",
    "print(\"F-measure: \",get_f1_measure(pred_mode_train,y_train))"
   ]
  },
  {
   "cell_type": "markdown",
   "metadata": {
    "colab_type": "text",
    "id": "MTMbuad5PXA2"
   },
   "source": [
    "### Evaluation on Test set"
   ]
  },
  {
   "cell_type": "code",
   "execution_count": 0,
   "metadata": {
    "colab": {},
    "colab_type": "code",
    "id": "ho4bJUeSPZDS"
   },
   "outputs": [],
   "source": [
    "c=X_test.toarray()"
   ]
  },
  {
   "cell_type": "code",
   "execution_count": 0,
   "metadata": {
    "colab": {},
    "colab_type": "code",
    "id": "Ep_Wcqu2PhwC"
   },
   "outputs": [],
   "source": [
    "rev_len_test= np.count_nonzero(c,axis=1)"
   ]
  },
  {
   "cell_type": "code",
   "execution_count": 0,
   "metadata": {
    "colab": {},
    "colab_type": "code",
    "id": "QJXfQBuNPkvB"
   },
   "outputs": [],
   "source": [
    "pred_mean_test=train_length(mean,rev_len_test)\n",
    "pred_median_test=train_length(median,rev_len_test)\n",
    "pred_mode_test=train_length(mode,rev_len_test)"
   ]
  },
  {
   "cell_type": "code",
   "execution_count": 29,
   "metadata": {
    "colab": {
     "base_uri": "https://localhost:8080/",
     "height": 87
    },
    "colab_type": "code",
    "id": "DzqUg-1UPmxH",
    "outputId": "78b0f0af-3b43-47a3-f713-561d1c01a6c6"
   },
   "outputs": [
    {
     "name": "stdout",
     "output_type": "stream",
     "text": [
      "Accuracy:  0.492\n",
      "Precision:  0.4881544657664061\n",
      "Recall:  0.32968\n",
      "F-measure:  0.39356317448190237\n"
     ]
    }
   ],
   "source": [
    "print(\"Accuracy: \",get_accuracy(pred_mean_test,y_test))\n",
    "print(\"Precision: \",get_precision(pred_mean_test,y_test))\n",
    "print(\"Recall: \",get_recall(pred_mean_test,y_test))\n",
    "print(\"F-measure: \",get_f1_measure(pred_mean_test,y_test))"
   ]
  },
  {
   "cell_type": "code",
   "execution_count": 30,
   "metadata": {
    "colab": {
     "base_uri": "https://localhost:8080/",
     "height": 87
    },
    "colab_type": "code",
    "id": "znxAWY2qPotN",
    "outputId": "af197edb-d353-46ff-b48f-a0d97d0e1c01"
   },
   "outputs": [
    {
     "name": "stdout",
     "output_type": "stream",
     "text": [
      "Accuracy:  0.48692\n",
      "Precision:  0.486303091228952\n",
      "Recall:  0.4644\n",
      "F-measure:  0.4750992347669517\n"
     ]
    }
   ],
   "source": [
    "print(\"Accuracy: \",get_accuracy(pred_median_test,y_test))\n",
    "print(\"Precision: \",get_precision(pred_median_test,y_test))\n",
    "print(\"Recall: \",get_recall(pred_median_test,y_test))\n",
    "print(\"F-measure: \",get_f1_measure(pred_median_test,y_test))"
   ]
  },
  {
   "cell_type": "code",
   "execution_count": 31,
   "metadata": {
    "colab": {
     "base_uri": "https://localhost:8080/",
     "height": 87
    },
    "colab_type": "code",
    "id": "NiOamM5nPqfJ",
    "outputId": "c605f88d-1899-4109-84f0-1cd4dc341413"
   },
   "outputs": [
    {
     "name": "stdout",
     "output_type": "stream",
     "text": [
      "Accuracy:  0.4814\n",
      "Precision:  0.4861812778603269\n",
      "Recall:  0.6544\n",
      "F-measure:  0.5578857630008526\n"
     ]
    }
   ],
   "source": [
    "print(\"Accuracy: \",get_accuracy(pred_mode_test,y_test))\n",
    "print(\"Precision: \",get_precision(pred_mode_test,y_test))\n",
    "print(\"Recall: \",get_recall(pred_mode_test,y_test))\n",
    "print(\"F-measure: \",get_f1_measure(pred_mode_test,y_test))"
   ]
  }
 ],
 "metadata": {
  "colab": {
   "collapsed_sections": [],
   "name": "Text_Classification1_3.ipynb",
   "provenance": []
  },
  "kernelspec": {
   "display_name": "Python 3",
   "language": "python",
   "name": "python3"
  },
  "language_info": {
   "codemirror_mode": {
    "name": "ipython",
    "version": 3
   },
   "file_extension": ".py",
   "mimetype": "text/x-python",
   "name": "python",
   "nbconvert_exporter": "python",
   "pygments_lexer": "ipython3",
   "version": "3.6.7"
  }
 },
 "nbformat": 4,
 "nbformat_minor": 1
}
